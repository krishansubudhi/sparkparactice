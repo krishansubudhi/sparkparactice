{
 "cells": [
  {
   "cell_type": "code",
   "execution_count": 3,
   "metadata": {},
   "outputs": [],
   "source": [
    "from pyspark.sql import SparkSession\n",
    "spark = (SparkSession\n",
    "         .builder\n",
    "         .appName('SparkSql')\n",
    "         .getOrCreate())"
   ]
  },
  {
   "cell_type": "code",
   "execution_count": 84,
   "metadata": {
    "scrolled": true
   },
   "outputs": [
    {
     "name": "stdout",
     "output_type": "stream",
     "text": [
      "FIPS\n",
      "State\n",
      "County\n",
      "PopChangeRate1718\n",
      "PopChangeRate1018\n",
      "TotalPopEst2018\n",
      "NetMigrationRate1018\n",
      "NaturalChangeRate1018\n",
      "Net_International_Migration_Rate_2010_2018\n",
      "PopChangeRate0010\n",
      "NetMigrationRate0010\n",
      "NaturalChangeRate0010\n",
      "Immigration_Rate_2000_2010\n",
      "PopDensity2010\n",
      "Under18Pct2010\n",
      "Age65AndOlderPct2010\n",
      "WhiteNonHispanicPct2010\n",
      "BlackNonHispanicPct2010\n",
      "AsianNonHispanicPct2010\n",
      "NativeAmericanNonHispanicPct2010\n",
      "HispanicPct2010\n",
      "MultipleRacePct2010\n",
      "NonHispanicWhitePopChangeRate0010\n",
      "NonHispanicBlackPopChangeRate0010\n",
      "NonHispanicAsianPopChangeRate0010\n",
      "NonHispanicNativeAmericanPopChangeRate0010\n",
      "HispanicPopChangeRate0010\n",
      "MultipleRacePopChangeRate0010\n",
      "WhiteNonHispanicNum2010\n",
      "BlackNonHispanicNum2010\n",
      "AsianNonHispanicNum2010\n",
      "NativeAmericanNonHispanicNum2010\n",
      "HispanicNum2010\n",
      "MultipleRaceNum2010\n",
      "ForeignBornPct\n",
      "ForeignBornEuropePct\n",
      "ForeignBornMexPct\n",
      "NonEnglishHHPct\n",
      "Ed1LessThanHSPct\n",
      "Ed2HSDiplomaOnlyPct\n",
      "Ed3SomeCollegePct\n",
      "Ed4AssocDegreePct\n",
      "Ed5CollegePlusPct\n",
      "AvgHHSize\n",
      "FemaleHHPct\n",
      "HH65PlusAlonePct\n",
      "OwnHomePct\n",
      "Ed5CollegePlusNum\n",
      "Ed3SomeCollegeNum\n",
      "Ed2HSDiplomaOnlyNum\n",
      "Ed1LessThanHSNum\n",
      "TotalPop25Plus\n",
      "ForeignBornAfricaPct\n",
      "TotalPopACS\n",
      "TotalOccHU\n",
      "ForeignBornAsiaPct\n",
      "Ed4AssocDegreeNum\n",
      "ForeignBornNum\n",
      "HH65PlusAloneNum\n",
      "OwnHomeNum\n",
      "FemaleHHNum\n",
      "TotalHH\n",
      "NonEnglishHHNum\n",
      "ForeignBornCentralSouthAmPct\n",
      "ForeignBornCentralSouthAmNum\n",
      "ForeignBornCaribPct\n",
      "ForeignBornCaribNum\n",
      "ForeignBornAfricaNum\n",
      "ForeignBornAsiaNum\n",
      "ForeignBornMexNum\n",
      "ForeignBornEuropeNum\n",
      "Age65AndOlderNum2010\n",
      "TotalPop2010\n",
      "LandAreaSQMiles2010\n",
      "Under18Num2010\n",
      "Net_International_Migration_2000_2010\n",
      "NaturalChangeNum0010\n",
      "NetMigrationNum0010\n",
      "TotalPopEst2012\n",
      "TotalPopEst2013\n",
      "TotalPopEst2010\n",
      "TotalPopEst2014\n",
      "TotalPopEst2011\n",
      "Net_International_Migration_2010_2018\n",
      "NaturalChange1018\n",
      "TotalPopEst2015\n",
      "TotalPopEst2016\n",
      "TotalPopEst2017\n",
      "NetMigration1018\n",
      "TotalPopEstBase2010\n"
     ]
    }
   ],
   "source": [
    "file =  '../Rural_Atlas_Update20/People.csv'\n",
    "columns = !powershell cat {file} -First 1\n",
    "for line in columns[0].split(','):\n",
    "    print(line)"
   ]
  },
  {
   "cell_type": "code",
   "execution_count": 39,
   "metadata": {},
   "outputs": [
    {
     "name": "stdout",
     "output_type": "stream",
     "text": [
      "+-----+-------------+---------------+-----------------------+---------------+-----------------------+\n",
      "|state|       county|TotalPopEst2010|WhiteNonHispanicPct2010|HispanicPct2010|AsianNonHispanicPct2010|\n",
      "+-----+-------------+---------------+-----------------------+---------------+-----------------------+\n",
      "|   US|United States|      309338421|                  63.75|          16.35|                   4.69|\n",
      "|   AL|      Alabama|        4785448|                  67.04|           3.88|                   1.11|\n",
      "|   AL|      Autauga|          54754|                  77.25|            2.4|                   0.86|\n",
      "|   AL|      Baldwin|         183111|                   83.5|           4.38|                   0.74|\n",
      "|   AL|      Barbour|          27330|                  46.75|           5.05|                   0.39|\n",
      "+-----+-------------+---------------+-----------------------+---------------+-----------------------+\n",
      "only showing top 5 rows\n",
      "\n"
     ]
    }
   ],
   "source": [
    "people_df = spark.read.csv(file, inferSchema=True, header=True)\n",
    "#people_df.show(1)\n",
    "pop_df_2010 = people_df.select(\n",
    "    'state', 'county','TotalPopEst2010','WhiteNonHispanicPct2010','HispanicPct2010', 'AsianNonHispanicPct2010')\n",
    "pop_df_2010.show(5)"
   ]
  },
  {
   "cell_type": "markdown",
   "metadata": {},
   "source": [
    "# SaveAsTable and load in sql "
   ]
  },
  {
   "cell_type": "code",
   "execution_count": 41,
   "metadata": {},
   "outputs": [],
   "source": [
    "pop_df_2010. write.saveAsTable('2010population', mode='overwrite')"
   ]
  },
  {
   "cell_type": "code",
   "execution_count": 43,
   "metadata": {},
   "outputs": [
    {
     "name": "stdout",
     "output_type": "stream",
     "text": [
      "+-----+-------------+---------------+-----------------------+---------------+-----------------------+\n",
      "|state|       county|TotalPopEst2010|WhiteNonHispanicPct2010|HispanicPct2010|AsianNonHispanicPct2010|\n",
      "+-----+-------------+---------------+-----------------------+---------------+-----------------------+\n",
      "|   US|United States|      309338421|                  63.75|          16.35|                   4.69|\n",
      "|   AL|      Alabama|        4785448|                  67.04|           3.88|                   1.11|\n",
      "|   AL|      Autauga|          54754|                  77.25|            2.4|                   0.86|\n",
      "|   AL|      Baldwin|         183111|                   83.5|           4.38|                   0.74|\n",
      "|   AL|      Barbour|          27330|                  46.75|           5.05|                   0.39|\n",
      "+-----+-------------+---------------+-----------------------+---------------+-----------------------+\n",
      "only showing top 5 rows\n",
      "\n"
     ]
    }
   ],
   "source": [
    "sql_df = spark.sql('select * from 2010population')\n",
    "sql_df.show(5)"
   ]
  },
  {
   "cell_type": "markdown",
   "metadata": {},
   "source": [
    "# Temporary View"
   ]
  },
  {
   "cell_type": "code",
   "execution_count": 44,
   "metadata": {},
   "outputs": [],
   "source": [
    "pop_df_2010.createOrReplaceTempView('pop2010_df_temp_view')"
   ]
  },
  {
   "cell_type": "markdown",
   "metadata": {},
   "source": [
    "### FInd counties with more hispanic people than white"
   ]
  },
  {
   "cell_type": "code",
   "execution_count": 47,
   "metadata": {
    "scrolled": true
   },
   "outputs": [
    {
     "name": "stdout",
     "output_type": "stream",
     "text": [
      "+-----+---------+-----------------------+---------------+--------------------+\n",
      "|state|   county|WhiteNonHispanicPct2010|HispanicPct2010|      hispanic_ratio|\n",
      "+-----+---------+-----------------------+---------------+--------------------+\n",
      "|   TX|   Kenedy|                  20.67|          76.68| 0.18388489208633096|\n",
      "|   PR|  Culebra|                    7.7|          91.75| 0.05041208791208791|\n",
      "|   TX|Culberson|                  21.02|          76.19|0.031693011647254576|\n",
      "|   TX|  Edwards|                   47.3|           51.3|0.025662831415707854|\n",
      "|   TX| Hudspeth|                  18.07|          79.63|0.022934907834101383|\n",
      "|   CO| Costilla|                  30.82|          66.03|0.018710682913006517|\n",
      "|   TX|   Reagan|                   36.2|          60.91|0.018165821652251713|\n",
      "|   TX| Jim Hogg|                    6.3|          92.58|0.017507564296520423|\n",
      "|   TX| Crockett|                  35.28|          63.24| 0.01708727370980816|\n",
      "|   NM|Guadalupe|                  16.07|          79.58|0.016957170253569145|\n",
      "+-----+---------+-----------------------+---------------+--------------------+\n",
      "only showing top 10 rows\n",
      "\n"
     ]
    }
   ],
   "source": [
    "spark.sql(' SELECT state, \\\n",
    "          county, \\\n",
    "          WhiteNonHispanicPct2010,  \\\n",
    "          HispanicPct2010 ,\\\n",
    "          HispanicPct2010/TotalPopEst2010 AS hispanic_ratio \\\n",
    "          FROM pop2010_df_temp_view \\\n",
    "          WHERE HispanicPct2010>WhiteNonHispanicPct2010 \\\n",
    "          ORDER BY hispanic_ratio DESC').show(10)"
   ]
  },
  {
   "cell_type": "markdown",
   "metadata": {},
   "source": [
    "### Find states with more hispanic people than white in 2010"
   ]
  },
  {
   "cell_type": "markdown",
   "metadata": {},
   "source": [
    "#### pyspark"
   ]
  },
  {
   "cell_type": "code",
   "execution_count": 68,
   "metadata": {},
   "outputs": [],
   "source": [
    "from pyspark.sql.functions import *"
   ]
  },
  {
   "cell_type": "code",
   "execution_count": 79,
   "metadata": {},
   "outputs": [
    {
     "name": "stdout",
     "output_type": "stream",
     "text": [
      "+-----+---------------+-----------------+-------------------+\n",
      "|state|TotalPopEst2010|      HispanicPct|WhiteNonHispanicPct|\n",
      "+-----+---------------+-----------------+-------------------+\n",
      "|   PR|        7443050|98.99912663088385|   0.72163327399386|\n",
      "|   NM|        4129176|46.29742528775718|  40.49270082941487|\n",
      "+-----+---------------+-----------------+-------------------+\n",
      "\n"
     ]
    }
   ],
   "source": [
    "(sql_df.select('state', 'county', 'TotalPopEst2010',\n",
    "              (col('TotalPopEst2010')*col('HispanicPct2010')/100).alias('TotalHispanic') ,\n",
    "             (col('TotalPopEst2010')*col('WhiteNonHispanicPct2010')/100).alias('TotalWhiteNonHispanic'))\n",
    " .groupBy('state').agg(\n",
    "     sum('TotalPopEst2010').alias('TotalPopEst2010'),\n",
    "     sum('TotalHispanic').alias('TotalHispanic'),\n",
    "     sum('TotalWhiteNonHispanic').alias('TotalWhiteNonHispanic'),\n",
    "     )\n",
    " .select('state','TotalPopEst2010',\n",
    "         (col('TotalHispanic')/col('TotalPopEst2010')*100).alias('HispanicPct'),\n",
    "        (col('TotalWhiteNonHispanic')/col('TotalPopEst2010')*100).alias('WhiteNonHispanicPct'))\n",
    " .where(col('HispanicPct')> col('WhiteNonHispanicPct'))\n",
    " .sort('HispanicPct',ascending=False)\n",
    ").show(5)"
   ]
  },
  {
   "cell_type": "markdown",
   "metadata": {},
   "source": [
    "#### SQL"
   ]
  },
  {
   "cell_type": "code",
   "execution_count": 83,
   "metadata": {},
   "outputs": [
    {
     "name": "stdout",
     "output_type": "stream",
     "text": [
      "+-----+---------------+-----------------+-----------------+\n",
      "|state|TotalPopEst2010|     hispanic_pct|        white_pct|\n",
      "+-----+---------------+-----------------+-----------------+\n",
      "|   NM|        4129176|46.29742528775718|40.49270082941487|\n",
      "|   PR|        7443050|98.99912663088385| 0.72163327399386|\n",
      "+-----+---------------+-----------------+-----------------+\n",
      "\n"
     ]
    }
   ],
   "source": [
    "spark.sql(\n",
    "    'select state, \\\n",
    "sum(TotalPopEst2010) as TotalPopEst2010, \\\n",
    "    sum(totalhispanic) / sum(TotalPopEst2010) * 100 as hispanic_pct, \\\n",
    "    sum(totalwhite) / sum(TotalPopEst2010) * 100 as white_pct \\\n",
    "    from \\\n",
    "        (select state, TotalPopEst2010, \\\n",
    "        TotalPopEst2010 * HispanicPct2010 / 100 as totalhispanic, \\\n",
    "        TotalPopEst2010 * WhiteNonHispanicPct2010 / 100 as totalwhite \\\n",
    "        from pop2010_df_temp_view) \\\n",
    "    group by state \\\n",
    "    having hispanic_pct > white_pct' \n",
    ").show()"
   ]
  },
  {
   "cell_type": "markdown",
   "metadata": {},
   "source": [
    "# Create DB"
   ]
  },
  {
   "cell_type": "code",
   "execution_count": 88,
   "metadata": {},
   "outputs": [
    {
     "data": {
      "text/plain": [
       "DataFrame[]"
      ]
     },
     "execution_count": 88,
     "metadata": {},
     "output_type": "execute_result"
    }
   ],
   "source": [
    "spark.sql('CREATE DATABASE people_db')\n",
    "spark.sql('USE people_db')"
   ]
  },
  {
   "cell_type": "markdown",
   "metadata": {},
   "source": [
    "# Managed and unmanaged Tables"
   ]
  },
  {
   "cell_type": "code",
   "execution_count": 86,
   "metadata": {},
   "outputs": [
    {
     "name": "stdout",
     "output_type": "stream",
     "text": [
      "+---------+-----------+----------------+-----------+---------+---------------+\n",
      "|AvgHHSize|FemaleHHPct|HH65PlusAlonePct| OwnHomePct|  TotalHH|NonEnglishHHPct|\n",
      "+---------+-----------+----------------+-----------+---------+---------------+\n",
      "|     2.63|12.70110164|     10.52845279|63.81868061|118825921|    4.464884392|\n",
      "|     2.55|14.77684811|     11.20841064|68.57437544|  1856695|    1.149407953|\n",
      "|     2.59|11.40875843|     11.38026028| 73.2877363|    21054|    0.750451221|\n",
      "|     2.63|9.426923936|     12.84594066|72.85933826|    76133|    0.901054733|\n",
      "|     2.54|19.36677184|     13.85050593|62.50680013|     9191|    0.816015668|\n",
      "+---------+-----------+----------------+-----------+---------+---------------+\n",
      "only showing top 5 rows\n",
      "\n"
     ]
    }
   ],
   "source": [
    "hh_df= people_df.select('AvgHHSize',\n",
    "'FemaleHHPct',\n",
    "'HH65PlusAlonePct',\n",
    "'OwnHomePct',\n",
    "'TotalHH',\n",
    "'NonEnglishHHPct')\n",
    "hh_df.show(5)\n"
   ]
  },
  {
   "cell_type": "markdown",
   "metadata": {},
   "source": [
    "## Managed Table\n",
    "File path is decided by sparksession"
   ]
  },
  {
   "cell_type": "markdown",
   "metadata": {},
   "source": [
    "### Using python"
   ]
  },
  {
   "cell_type": "code",
   "execution_count": 91,
   "metadata": {},
   "outputs": [],
   "source": [
    "hh_df.write.saveAsTable('hh_df_from_python')"
   ]
  },
  {
   "cell_type": "markdown",
   "metadata": {},
   "source": [
    "### Using sql"
   ]
  },
  {
   "cell_type": "code",
   "execution_count": 96,
   "metadata": {},
   "outputs": [
    {
     "ename": "AnalysisException",
     "evalue": "\"Hive support is required to CREATE Hive TABLE (AS SELECT);;\\n'CreateTable `hh_df_from_sql`, org.apache.hadoop.hive.serde2.lazy.LazySimpleSerDe, Ignore\\n\"",
     "output_type": "error",
     "traceback": [
      "\u001b[1;31m---------------------------------------------------------------------------\u001b[0m",
      "\u001b[1;31mPy4JJavaError\u001b[0m                             Traceback (most recent call last)",
      "\u001b[1;32mc:\\users\\krkusuk\\appdata\\local\\continuum\\miniconda3\\envs\\spark\\lib\\site-packages\\pyspark\\sql\\utils.py\u001b[0m in \u001b[0;36mdeco\u001b[1;34m(*a, **kw)\u001b[0m\n\u001b[0;32m     62\u001b[0m         \u001b[1;32mtry\u001b[0m\u001b[1;33m:\u001b[0m\u001b[1;33m\u001b[0m\u001b[1;33m\u001b[0m\u001b[0m\n\u001b[1;32m---> 63\u001b[1;33m             \u001b[1;32mreturn\u001b[0m \u001b[0mf\u001b[0m\u001b[1;33m(\u001b[0m\u001b[1;33m*\u001b[0m\u001b[0ma\u001b[0m\u001b[1;33m,\u001b[0m \u001b[1;33m**\u001b[0m\u001b[0mkw\u001b[0m\u001b[1;33m)\u001b[0m\u001b[1;33m\u001b[0m\u001b[1;33m\u001b[0m\u001b[0m\n\u001b[0m\u001b[0;32m     64\u001b[0m         \u001b[1;32mexcept\u001b[0m \u001b[0mpy4j\u001b[0m\u001b[1;33m.\u001b[0m\u001b[0mprotocol\u001b[0m\u001b[1;33m.\u001b[0m\u001b[0mPy4JJavaError\u001b[0m \u001b[1;32mas\u001b[0m \u001b[0me\u001b[0m\u001b[1;33m:\u001b[0m\u001b[1;33m\u001b[0m\u001b[1;33m\u001b[0m\u001b[0m\n",
      "\u001b[1;32mc:\\users\\krkusuk\\appdata\\local\\continuum\\miniconda3\\envs\\spark\\lib\\site-packages\\py4j\\protocol.py\u001b[0m in \u001b[0;36mget_return_value\u001b[1;34m(answer, gateway_client, target_id, name)\u001b[0m\n\u001b[0;32m    327\u001b[0m                     \u001b[1;34m\"An error occurred while calling {0}{1}{2}.\\n\"\u001b[0m\u001b[1;33m.\u001b[0m\u001b[1;33m\u001b[0m\u001b[1;33m\u001b[0m\u001b[0m\n\u001b[1;32m--> 328\u001b[1;33m                     format(target_id, \".\", name), value)\n\u001b[0m\u001b[0;32m    329\u001b[0m             \u001b[1;32melse\u001b[0m\u001b[1;33m:\u001b[0m\u001b[1;33m\u001b[0m\u001b[1;33m\u001b[0m\u001b[0m\n",
      "\u001b[1;31mPy4JJavaError\u001b[0m: An error occurred while calling o22.sql.\n: org.apache.spark.sql.AnalysisException: Hive support is required to CREATE Hive TABLE (AS SELECT);;\n'CreateTable `hh_df_from_sql`, org.apache.hadoop.hive.serde2.lazy.LazySimpleSerDe, Ignore\n\r\n\tat org.apache.spark.sql.execution.datasources.HiveOnlyCheck$$anonfun$apply$12.apply(rules.scala:392)\r\n\tat org.apache.spark.sql.execution.datasources.HiveOnlyCheck$$anonfun$apply$12.apply(rules.scala:390)\r\n\tat org.apache.spark.sql.catalyst.trees.TreeNode.foreach(TreeNode.scala:117)\r\n\tat org.apache.spark.sql.execution.datasources.HiveOnlyCheck$.apply(rules.scala:390)\r\n\tat org.apache.spark.sql.execution.datasources.HiveOnlyCheck$.apply(rules.scala:388)\r\n\tat org.apache.spark.sql.catalyst.analysis.CheckAnalysis$$anonfun$checkAnalysis$2.apply(CheckAnalysis.scala:429)\r\n\tat org.apache.spark.sql.catalyst.analysis.CheckAnalysis$$anonfun$checkAnalysis$2.apply(CheckAnalysis.scala:429)\r\n\tat scala.collection.mutable.ResizableArray$class.foreach(ResizableArray.scala:59)\r\n\tat scala.collection.mutable.ArrayBuffer.foreach(ArrayBuffer.scala:48)\r\n\tat org.apache.spark.sql.catalyst.analysis.CheckAnalysis$class.checkAnalysis(CheckAnalysis.scala:429)\r\n\tat org.apache.spark.sql.catalyst.analysis.Analyzer.checkAnalysis(Analyzer.scala:95)\r\n\tat org.apache.spark.sql.catalyst.analysis.Analyzer$$anonfun$executeAndCheck$1.apply(Analyzer.scala:108)\r\n\tat org.apache.spark.sql.catalyst.analysis.Analyzer$$anonfun$executeAndCheck$1.apply(Analyzer.scala:105)\r\n\tat org.apache.spark.sql.catalyst.plans.logical.AnalysisHelper$.markInAnalyzer(AnalysisHelper.scala:201)\r\n\tat org.apache.spark.sql.catalyst.analysis.Analyzer.executeAndCheck(Analyzer.scala:105)\r\n\tat org.apache.spark.sql.execution.QueryExecution.analyzed$lzycompute(QueryExecution.scala:57)\r\n\tat org.apache.spark.sql.execution.QueryExecution.analyzed(QueryExecution.scala:55)\r\n\tat org.apache.spark.sql.execution.QueryExecution.assertAnalyzed(QueryExecution.scala:47)\r\n\tat org.apache.spark.sql.Dataset$.ofRows(Dataset.scala:78)\r\n\tat org.apache.spark.sql.SparkSession.sql(SparkSession.scala:642)\r\n\tat sun.reflect.GeneratedMethodAccessor160.invoke(Unknown Source)\r\n\tat sun.reflect.DelegatingMethodAccessorImpl.invoke(Unknown Source)\r\n\tat java.lang.reflect.Method.invoke(Unknown Source)\r\n\tat py4j.reflection.MethodInvoker.invoke(MethodInvoker.java:244)\r\n\tat py4j.reflection.ReflectionEngine.invoke(ReflectionEngine.java:357)\r\n\tat py4j.Gateway.invoke(Gateway.java:282)\r\n\tat py4j.commands.AbstractCommand.invokeMethod(AbstractCommand.java:132)\r\n\tat py4j.commands.CallCommand.execute(CallCommand.java:79)\r\n\tat py4j.GatewayConnection.run(GatewayConnection.java:238)\r\n\tat java.lang.Thread.run(Unknown Source)\r\n",
      "\nDuring handling of the above exception, another exception occurred:\n",
      "\u001b[1;31mAnalysisException\u001b[0m                         Traceback (most recent call last)",
      "\u001b[1;32m<ipython-input-96-b8a7ae4b55c0>\u001b[0m in \u001b[0;36m<module>\u001b[1;34m\u001b[0m\n\u001b[0;32m      1\u001b[0m spark.sql('create table if not exists hh_df_from_sql \\\n\u001b[1;32m----> 2\u001b[1;33m (AvgHHSize INT, FemaleHHPct FLOAT, HH65PlusAlonePct FLOAT, OwnHomePct FLOAT, TotalHH INT, NonEnglishHHPct FLOAT)')\n\u001b[0m",
      "\u001b[1;32mc:\\users\\krkusuk\\appdata\\local\\continuum\\miniconda3\\envs\\spark\\lib\\site-packages\\pyspark\\sql\\session.py\u001b[0m in \u001b[0;36msql\u001b[1;34m(self, sqlQuery)\u001b[0m\n\u001b[0;32m    765\u001b[0m         \u001b[1;33m[\u001b[0m\u001b[0mRow\u001b[0m\u001b[1;33m(\u001b[0m\u001b[0mf1\u001b[0m\u001b[1;33m=\u001b[0m\u001b[1;36m1\u001b[0m\u001b[1;33m,\u001b[0m \u001b[0mf2\u001b[0m\u001b[1;33m=\u001b[0m\u001b[1;34mu'row1'\u001b[0m\u001b[1;33m)\u001b[0m\u001b[1;33m,\u001b[0m \u001b[0mRow\u001b[0m\u001b[1;33m(\u001b[0m\u001b[0mf1\u001b[0m\u001b[1;33m=\u001b[0m\u001b[1;36m2\u001b[0m\u001b[1;33m,\u001b[0m \u001b[0mf2\u001b[0m\u001b[1;33m=\u001b[0m\u001b[1;34mu'row2'\u001b[0m\u001b[1;33m)\u001b[0m\u001b[1;33m,\u001b[0m \u001b[0mRow\u001b[0m\u001b[1;33m(\u001b[0m\u001b[0mf1\u001b[0m\u001b[1;33m=\u001b[0m\u001b[1;36m3\u001b[0m\u001b[1;33m,\u001b[0m \u001b[0mf2\u001b[0m\u001b[1;33m=\u001b[0m\u001b[1;34mu'row3'\u001b[0m\u001b[1;33m)\u001b[0m\u001b[1;33m]\u001b[0m\u001b[1;33m\u001b[0m\u001b[1;33m\u001b[0m\u001b[0m\n\u001b[0;32m    766\u001b[0m         \"\"\"\n\u001b[1;32m--> 767\u001b[1;33m         \u001b[1;32mreturn\u001b[0m \u001b[0mDataFrame\u001b[0m\u001b[1;33m(\u001b[0m\u001b[0mself\u001b[0m\u001b[1;33m.\u001b[0m\u001b[0m_jsparkSession\u001b[0m\u001b[1;33m.\u001b[0m\u001b[0msql\u001b[0m\u001b[1;33m(\u001b[0m\u001b[0msqlQuery\u001b[0m\u001b[1;33m)\u001b[0m\u001b[1;33m,\u001b[0m \u001b[0mself\u001b[0m\u001b[1;33m.\u001b[0m\u001b[0m_wrapped\u001b[0m\u001b[1;33m)\u001b[0m\u001b[1;33m\u001b[0m\u001b[1;33m\u001b[0m\u001b[0m\n\u001b[0m\u001b[0;32m    768\u001b[0m \u001b[1;33m\u001b[0m\u001b[0m\n\u001b[0;32m    769\u001b[0m     \u001b[1;33m@\u001b[0m\u001b[0msince\u001b[0m\u001b[1;33m(\u001b[0m\u001b[1;36m2.0\u001b[0m\u001b[1;33m)\u001b[0m\u001b[1;33m\u001b[0m\u001b[1;33m\u001b[0m\u001b[0m\n",
      "\u001b[1;32mc:\\users\\krkusuk\\appdata\\local\\continuum\\miniconda3\\envs\\spark\\lib\\site-packages\\py4j\\java_gateway.py\u001b[0m in \u001b[0;36m__call__\u001b[1;34m(self, *args)\u001b[0m\n\u001b[0;32m   1255\u001b[0m         \u001b[0manswer\u001b[0m \u001b[1;33m=\u001b[0m \u001b[0mself\u001b[0m\u001b[1;33m.\u001b[0m\u001b[0mgateway_client\u001b[0m\u001b[1;33m.\u001b[0m\u001b[0msend_command\u001b[0m\u001b[1;33m(\u001b[0m\u001b[0mcommand\u001b[0m\u001b[1;33m)\u001b[0m\u001b[1;33m\u001b[0m\u001b[1;33m\u001b[0m\u001b[0m\n\u001b[0;32m   1256\u001b[0m         return_value = get_return_value(\n\u001b[1;32m-> 1257\u001b[1;33m             answer, self.gateway_client, self.target_id, self.name)\n\u001b[0m\u001b[0;32m   1258\u001b[0m \u001b[1;33m\u001b[0m\u001b[0m\n\u001b[0;32m   1259\u001b[0m         \u001b[1;32mfor\u001b[0m \u001b[0mtemp_arg\u001b[0m \u001b[1;32min\u001b[0m \u001b[0mtemp_args\u001b[0m\u001b[1;33m:\u001b[0m\u001b[1;33m\u001b[0m\u001b[1;33m\u001b[0m\u001b[0m\n",
      "\u001b[1;32mc:\\users\\krkusuk\\appdata\\local\\continuum\\miniconda3\\envs\\spark\\lib\\site-packages\\pyspark\\sql\\utils.py\u001b[0m in \u001b[0;36mdeco\u001b[1;34m(*a, **kw)\u001b[0m\n\u001b[0;32m     67\u001b[0m                                              e.java_exception.getStackTrace()))\n\u001b[0;32m     68\u001b[0m             \u001b[1;32mif\u001b[0m \u001b[0ms\u001b[0m\u001b[1;33m.\u001b[0m\u001b[0mstartswith\u001b[0m\u001b[1;33m(\u001b[0m\u001b[1;34m'org.apache.spark.sql.AnalysisException: '\u001b[0m\u001b[1;33m)\u001b[0m\u001b[1;33m:\u001b[0m\u001b[1;33m\u001b[0m\u001b[1;33m\u001b[0m\u001b[0m\n\u001b[1;32m---> 69\u001b[1;33m                 \u001b[1;32mraise\u001b[0m \u001b[0mAnalysisException\u001b[0m\u001b[1;33m(\u001b[0m\u001b[0ms\u001b[0m\u001b[1;33m.\u001b[0m\u001b[0msplit\u001b[0m\u001b[1;33m(\u001b[0m\u001b[1;34m': '\u001b[0m\u001b[1;33m,\u001b[0m \u001b[1;36m1\u001b[0m\u001b[1;33m)\u001b[0m\u001b[1;33m[\u001b[0m\u001b[1;36m1\u001b[0m\u001b[1;33m]\u001b[0m\u001b[1;33m,\u001b[0m \u001b[0mstackTrace\u001b[0m\u001b[1;33m)\u001b[0m\u001b[1;33m\u001b[0m\u001b[1;33m\u001b[0m\u001b[0m\n\u001b[0m\u001b[0;32m     70\u001b[0m             \u001b[1;32mif\u001b[0m \u001b[0ms\u001b[0m\u001b[1;33m.\u001b[0m\u001b[0mstartswith\u001b[0m\u001b[1;33m(\u001b[0m\u001b[1;34m'org.apache.spark.sql.catalyst.analysis'\u001b[0m\u001b[1;33m)\u001b[0m\u001b[1;33m:\u001b[0m\u001b[1;33m\u001b[0m\u001b[1;33m\u001b[0m\u001b[0m\n\u001b[0;32m     71\u001b[0m                 \u001b[1;32mraise\u001b[0m \u001b[0mAnalysisException\u001b[0m\u001b[1;33m(\u001b[0m\u001b[0ms\u001b[0m\u001b[1;33m.\u001b[0m\u001b[0msplit\u001b[0m\u001b[1;33m(\u001b[0m\u001b[1;34m': '\u001b[0m\u001b[1;33m,\u001b[0m \u001b[1;36m1\u001b[0m\u001b[1;33m)\u001b[0m\u001b[1;33m[\u001b[0m\u001b[1;36m1\u001b[0m\u001b[1;33m]\u001b[0m\u001b[1;33m,\u001b[0m \u001b[0mstackTrace\u001b[0m\u001b[1;33m)\u001b[0m\u001b[1;33m\u001b[0m\u001b[1;33m\u001b[0m\u001b[0m\n",
      "\u001b[1;31mAnalysisException\u001b[0m: \"Hive support is required to CREATE Hive TABLE (AS SELECT);;\\n'CreateTable `hh_df_from_sql`, org.apache.hadoop.hive.serde2.lazy.LazySimpleSerDe, Ignore\\n\""
     ]
    }
   ],
   "source": [
    "spark.sql('create table if not exists hh_df_from_sql \\\n",
    "(AvgHHSize INT, FemaleHHPct FLOAT, HH65PlusAlonePct FLOAT, OwnHomePct FLOAT, TotalHH INT, NonEnglishHHPct FLOAT)')"
   ]
  },
  {
   "cell_type": "code",
   "execution_count": null,
   "metadata": {},
   "outputs": [],
   "source": []
  }
 ],
 "metadata": {
  "kernelspec": {
   "display_name": "Python 3",
   "language": "python",
   "name": "python3"
  },
  "language_info": {
   "codemirror_mode": {
    "name": "ipython",
    "version": 3
   },
   "file_extension": ".py",
   "mimetype": "text/x-python",
   "name": "python",
   "nbconvert_exporter": "python",
   "pygments_lexer": "ipython3",
   "version": "3.7.5"
  }
 },
 "nbformat": 4,
 "nbformat_minor": 4
}
