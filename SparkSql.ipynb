{
 "cells": [
  {
   "cell_type": "code",
   "execution_count": 8,
   "metadata": {},
   "outputs": [],
   "source": [
    "from pyspark.sql import SparkSession\n",
    "spark = (SparkSession\n",
    "         .builder\n",
    "         .appName('SparkSql')\n",
    "#          .config(\"spark.sql.warehouse.dir\", r\"C:\\Users\\krkusuk\\Study\\spark\\warehouse\")\n",
    "#          .enableHiveSupport()\n",
    "         .getOrCreate())"
   ]
  },
  {
   "cell_type": "code",
   "execution_count": 56,
   "metadata": {},
   "outputs": [],
   "source": [
    "# spark.stop()"
   ]
  },
  {
   "cell_type": "code",
   "execution_count": 10,
   "metadata": {
    "scrolled": true
   },
   "outputs": [],
   "source": [
    "file =  '../Rural_Atlas_Update20/People.csv'\n",
    "# columns = !powershell cat {file} -First 1\n",
    "# for line in columns[0].split(','):\n",
    "#     print(line)"
   ]
  },
  {
   "cell_type": "code",
   "execution_count": 11,
   "metadata": {
    "scrolled": false
   },
   "outputs": [
    {
     "name": "stdout",
     "output_type": "stream",
     "text": [
      "+-----+-------------+---------------+-----------------------+---------------+-----------------------+\n",
      "|state|       county|TotalPopEst2010|WhiteNonHispanicPct2010|HispanicPct2010|AsianNonHispanicPct2010|\n",
      "+-----+-------------+---------------+-----------------------+---------------+-----------------------+\n",
      "|   US|United States|      309338421|                  63.75|          16.35|                   4.69|\n",
      "|   AL|      Alabama|        4785448|                  67.04|           3.88|                   1.11|\n",
      "|   AL|      Autauga|          54754|                  77.25|            2.4|                   0.86|\n",
      "|   AL|      Baldwin|         183111|                   83.5|           4.38|                   0.74|\n",
      "|   AL|      Barbour|          27330|                  46.75|           5.05|                   0.39|\n",
      "+-----+-------------+---------------+-----------------------+---------------+-----------------------+\n",
      "only showing top 5 rows\n",
      "\n"
     ]
    }
   ],
   "source": [
    "people_df = spark.read.csv(file, inferSchema=True, header=True)\n",
    "pop_df_2010 = people_df.select(\n",
    "    'state', 'county','TotalPopEst2010','WhiteNonHispanicPct2010','HispanicPct2010', 'AsianNonHispanicPct2010')\n",
    "pop_df_2010.show(5)"
   ]
  },
  {
   "cell_type": "markdown",
   "metadata": {},
   "source": [
    "# SaveAsTable and load in sql "
   ]
  },
  {
   "cell_type": "code",
   "execution_count": 12,
   "metadata": {},
   "outputs": [],
   "source": [
    "pop_df_2010.write.saveAsTable('2010population', mode='overwrite')"
   ]
  },
  {
   "cell_type": "code",
   "execution_count": 13,
   "metadata": {},
   "outputs": [
    {
     "name": "stdout",
     "output_type": "stream",
     "text": [
      "+-----+-------------+---------------+-----------------------+---------------+-----------------------+\n",
      "|state|       county|TotalPopEst2010|WhiteNonHispanicPct2010|HispanicPct2010|AsianNonHispanicPct2010|\n",
      "+-----+-------------+---------------+-----------------------+---------------+-----------------------+\n",
      "|   US|United States|      309338421|                  63.75|          16.35|                   4.69|\n",
      "|   AL|      Alabama|        4785448|                  67.04|           3.88|                   1.11|\n",
      "|   AL|      Autauga|          54754|                  77.25|            2.4|                   0.86|\n",
      "|   AL|      Baldwin|         183111|                   83.5|           4.38|                   0.74|\n",
      "|   AL|      Barbour|          27330|                  46.75|           5.05|                   0.39|\n",
      "+-----+-------------+---------------+-----------------------+---------------+-----------------------+\n",
      "only showing top 5 rows\n",
      "\n"
     ]
    }
   ],
   "source": [
    "sql_df = spark.sql('select * from 2010population')\n",
    "sql_df.show(5)"
   ]
  },
  {
   "cell_type": "markdown",
   "metadata": {},
   "source": [
    "# Temporary View"
   ]
  },
  {
   "cell_type": "code",
   "execution_count": 49,
   "metadata": {},
   "outputs": [],
   "source": [
    "#In python\n",
    "pop_df_2010.createOrReplaceTempView('pop2010_df_temp_view')"
   ]
  },
  {
   "cell_type": "code",
   "execution_count": 50,
   "metadata": {},
   "outputs": [
    {
     "data": {
      "text/plain": [
       "DataFrame[]"
      ]
     },
     "execution_count": 50,
     "metadata": {},
     "output_type": "execute_result"
    }
   ],
   "source": [
    "#in SQL\n",
    "spark.sql('CREATE or REPLACE TEMP VIEW  pop2010_df_gt10hispanic_temp_view AS \\\n",
    "          SELECT * FROM pop2010_df_temp_view WHERE HispanicPct2010>10')"
   ]
  },
  {
   "cell_type": "code",
   "execution_count": 51,
   "metadata": {},
   "outputs": [
    {
     "name": "stdout",
     "output_type": "stream",
     "text": [
      "+-----+--------------+---------------+-----------------------+---------------+-----------------------+\n",
      "|state|        county|TotalPopEst2010|WhiteNonHispanicPct2010|HispanicPct2010|AsianNonHispanicPct2010|\n",
      "+-----+--------------+---------------+-----------------------+---------------+-----------------------+\n",
      "|   US| United States|      309338421|                  63.75|          16.35|                   4.69|\n",
      "|   AL|        DeKalb|          71159|                  81.56|          13.63|                   0.23|\n",
      "|   AL|      Franklin|          31745|                  79.64|          14.86|                   0.16|\n",
      "|   AL|      Marshall|          93124|                  83.92|          12.08|                   0.51|\n",
      "|   AK|Aleutians East|           3166|                  13.53|          12.26|                  35.43|\n",
      "+-----+--------------+---------------+-----------------------+---------------+-----------------------+\n",
      "only showing top 5 rows\n",
      "\n"
     ]
    }
   ],
   "source": [
    "spark.sql('select * from pop2010_df_gt10hispanic_temp_view').show(5)"
   ]
  },
  {
   "cell_type": "code",
   "execution_count": 54,
   "metadata": {},
   "outputs": [
    {
     "data": {
      "text/plain": [
       "DataFrame[]"
      ]
     },
     "execution_count": 54,
     "metadata": {},
     "output_type": "execute_result"
    }
   ],
   "source": [
    "spark.sql('DROP VIEW IF EXISTS pop2010_df_gt10hispanic_temp_view')"
   ]
  },
  {
   "cell_type": "markdown",
   "metadata": {},
   "source": [
    "### FInd counties with more hispanic people than white"
   ]
  },
  {
   "cell_type": "code",
   "execution_count": 15,
   "metadata": {
    "scrolled": true
   },
   "outputs": [
    {
     "name": "stdout",
     "output_type": "stream",
     "text": [
      "+-----+---------+-----------------------+---------------+--------------------+\n",
      "|state|   county|WhiteNonHispanicPct2010|HispanicPct2010|      hispanic_ratio|\n",
      "+-----+---------+-----------------------+---------------+--------------------+\n",
      "|   TX|   Kenedy|                  20.67|          76.68| 0.18388489208633096|\n",
      "|   PR|  Culebra|                    7.7|          91.75| 0.05041208791208791|\n",
      "|   TX|Culberson|                  21.02|          76.19|0.031693011647254576|\n",
      "|   TX|  Edwards|                   47.3|           51.3|0.025662831415707854|\n",
      "|   TX| Hudspeth|                  18.07|          79.63|0.022934907834101383|\n",
      "|   CO| Costilla|                  30.82|          66.03|0.018710682913006517|\n",
      "|   TX|   Reagan|                   36.2|          60.91|0.018165821652251713|\n",
      "|   TX| Jim Hogg|                    6.3|          92.58|0.017507564296520423|\n",
      "|   TX| Crockett|                  35.28|          63.24| 0.01708727370980816|\n",
      "|   NM|Guadalupe|                  16.07|          79.58|0.016957170253569145|\n",
      "+-----+---------+-----------------------+---------------+--------------------+\n",
      "only showing top 10 rows\n",
      "\n"
     ]
    }
   ],
   "source": [
    "spark.sql(' SELECT state, \\\n",
    "          county, \\\n",
    "          WhiteNonHispanicPct2010,  \\\n",
    "          HispanicPct2010 ,\\\n",
    "          HispanicPct2010/TotalPopEst2010 AS hispanic_ratio \\\n",
    "          FROM pop2010_df_temp_view \\\n",
    "          WHERE HispanicPct2010>WhiteNonHispanicPct2010 \\\n",
    "          ORDER BY hispanic_ratio DESC').show(10)"
   ]
  },
  {
   "cell_type": "markdown",
   "metadata": {},
   "source": [
    "### Find states with more hispanic people than white in 2010"
   ]
  },
  {
   "cell_type": "markdown",
   "metadata": {},
   "source": [
    "#### pyspark"
   ]
  },
  {
   "cell_type": "code",
   "execution_count": 16,
   "metadata": {},
   "outputs": [],
   "source": [
    "from pyspark.sql.functions import *"
   ]
  },
  {
   "cell_type": "code",
   "execution_count": 17,
   "metadata": {},
   "outputs": [
    {
     "name": "stdout",
     "output_type": "stream",
     "text": [
      "+-----+---------------+-----------------+-------------------+\n",
      "|state|TotalPopEst2010|      HispanicPct|WhiteNonHispanicPct|\n",
      "+-----+---------------+-----------------+-------------------+\n",
      "|   PR|        7443050|98.99912663088385|   0.72163327399386|\n",
      "|   NM|        4129176|46.29742528775718|  40.49270082941487|\n",
      "+-----+---------------+-----------------+-------------------+\n",
      "\n"
     ]
    }
   ],
   "source": [
    "(sql_df.select('state', 'county', 'TotalPopEst2010',\n",
    "              (col('TotalPopEst2010')*col('HispanicPct2010')/100).alias('TotalHispanic') ,\n",
    "             (col('TotalPopEst2010')*col('WhiteNonHispanicPct2010')/100).alias('TotalWhiteNonHispanic'))\n",
    " .groupBy('state').agg(\n",
    "     sum('TotalPopEst2010').alias('TotalPopEst2010'),\n",
    "     sum('TotalHispanic').alias('TotalHispanic'),\n",
    "     sum('TotalWhiteNonHispanic').alias('TotalWhiteNonHispanic'),\n",
    "     )\n",
    " .select('state','TotalPopEst2010',\n",
    "         (col('TotalHispanic')/col('TotalPopEst2010')*100).alias('HispanicPct'),\n",
    "        (col('TotalWhiteNonHispanic')/col('TotalPopEst2010')*100).alias('WhiteNonHispanicPct'))\n",
    " .where(col('HispanicPct')> col('WhiteNonHispanicPct'))\n",
    " .sort('HispanicPct',ascending=False)\n",
    ").show(5)"
   ]
  },
  {
   "cell_type": "markdown",
   "metadata": {},
   "source": [
    "#### SQL"
   ]
  },
  {
   "cell_type": "code",
   "execution_count": 18,
   "metadata": {},
   "outputs": [
    {
     "name": "stdout",
     "output_type": "stream",
     "text": [
      "+-----+---------------+-----------------+-----------------+\n",
      "|state|TotalPopEst2010|     hispanic_pct|        white_pct|\n",
      "+-----+---------------+-----------------+-----------------+\n",
      "|   NM|        4129176|46.29742528775718|40.49270082941487|\n",
      "|   PR|        7443050|98.99912663088385| 0.72163327399386|\n",
      "+-----+---------------+-----------------+-----------------+\n",
      "\n"
     ]
    }
   ],
   "source": [
    "spark.sql(\n",
    "    'select state, \\\n",
    "sum(TotalPopEst2010) as TotalPopEst2010, \\\n",
    "    sum(totalhispanic) / sum(TotalPopEst2010) * 100 as hispanic_pct, \\\n",
    "    sum(totalwhite) / sum(TotalPopEst2010) * 100 as white_pct \\\n",
    "    from \\\n",
    "        (select state, TotalPopEst2010, \\\n",
    "        TotalPopEst2010 * HispanicPct2010 / 100 as totalhispanic, \\\n",
    "        TotalPopEst2010 * WhiteNonHispanicPct2010 / 100 as totalwhite \\\n",
    "        from pop2010_df_temp_view) \\\n",
    "    group by state \\\n",
    "    having hispanic_pct > white_pct' \n",
    ").show()"
   ]
  },
  {
   "cell_type": "markdown",
   "metadata": {},
   "source": [
    "# Create DB"
   ]
  },
  {
   "cell_type": "code",
   "execution_count": 22,
   "metadata": {},
   "outputs": [
    {
     "data": {
      "text/plain": [
       "DataFrame[]"
      ]
     },
     "execution_count": 22,
     "metadata": {},
     "output_type": "execute_result"
    }
   ],
   "source": [
    "spark.sql('CREATE DATABASE IF NOT EXISTS people_db_2')\n",
    "spark.sql('USE people_db_2')"
   ]
  },
  {
   "cell_type": "markdown",
   "metadata": {},
   "source": [
    "# Managed and unmanaged Tables"
   ]
  },
  {
   "cell_type": "code",
   "execution_count": 23,
   "metadata": {},
   "outputs": [
    {
     "name": "stdout",
     "output_type": "stream",
     "text": [
      "+---------+-----------+----------------+-----------+---------+---------------+\n",
      "|AvgHHSize|FemaleHHPct|HH65PlusAlonePct| OwnHomePct|  TotalHH|NonEnglishHHPct|\n",
      "+---------+-----------+----------------+-----------+---------+---------------+\n",
      "|     2.63|12.70110164|     10.52845279|63.81868061|118825921|    4.464884392|\n",
      "|     2.55|14.77684811|     11.20841064|68.57437544|  1856695|    1.149407953|\n",
      "|     2.59|11.40875843|     11.38026028| 73.2877363|    21054|    0.750451221|\n",
      "|     2.63|9.426923936|     12.84594066|72.85933826|    76133|    0.901054733|\n",
      "|     2.54|19.36677184|     13.85050593|62.50680013|     9191|    0.816015668|\n",
      "+---------+-----------+----------------+-----------+---------+---------------+\n",
      "only showing top 5 rows\n",
      "\n"
     ]
    }
   ],
   "source": [
    "hh_df= people_df.select('AvgHHSize',\n",
    "'FemaleHHPct',\n",
    "'HH65PlusAlonePct',\n",
    "'OwnHomePct',\n",
    "'TotalHH',\n",
    "'NonEnglishHHPct')\n",
    "hh_df.show(5)\n"
   ]
  },
  {
   "cell_type": "markdown",
   "metadata": {},
   "source": [
    "## Managed Table\n",
    "File path is decided by sparksession"
   ]
  },
  {
   "cell_type": "markdown",
   "metadata": {},
   "source": [
    "### Using python"
   ]
  },
  {
   "cell_type": "code",
   "execution_count": 24,
   "metadata": {},
   "outputs": [],
   "source": [
    "hh_df.write.saveAsTable('hh_df_from_python')"
   ]
  },
  {
   "cell_type": "markdown",
   "metadata": {},
   "source": [
    "### Using sql"
   ]
  },
  {
   "cell_type": "markdown",
   "metadata": {},
   "source": [
    "C:\\Users\\krkusuk\\software\\winutils\\bin\\winutils.exe chmod 777 /tmp/hive"
   ]
  },
  {
   "cell_type": "code",
   "execution_count": 44,
   "metadata": {},
   "outputs": [],
   "source": [
    "# spark.sql('create table if not exists hh_df_from_sql \\\n",
    "# (AvgHHSize INT, FemaleHHPct FLOAT, HH65PlusAlonePct FLOAT, OwnHomePct FLOAT, TotalHH INT, NonEnglishHHPct FLOAT)')"
   ]
  },
  {
   "cell_type": "markdown",
   "metadata": {},
   "source": [
    "## Unmanaged Table"
   ]
  },
  {
   "cell_type": "markdown",
   "metadata": {},
   "source": [
    "By contrast, you can create an unmanaged table from your own data sources, say Parquet, CSV or JSON files stored in a file store accessible to your Spark application."
   ]
  },
  {
   "cell_type": "markdown",
   "metadata": {},
   "source": [
    "### Using Python"
   ]
  },
  {
   "cell_type": "code",
   "execution_count": 30,
   "metadata": {},
   "outputs": [],
   "source": [
    "hh_df.write.option('path',r'C:\\\\users\\krkusuk\\tmp').saveAsTable('hh_df_from_python_unmanaged')"
   ]
  },
  {
   "cell_type": "code",
   "execution_count": 34,
   "metadata": {},
   "outputs": [
    {
     "name": "stdout",
     "output_type": "stream",
     "text": [
      "+---------+-----------+----------------+-----------+---------+---------------+\n",
      "|AvgHHSize|FemaleHHPct|HH65PlusAlonePct| OwnHomePct|  TotalHH|NonEnglishHHPct|\n",
      "+---------+-----------+----------------+-----------+---------+---------------+\n",
      "|     2.63|12.70110164|     10.52845279|63.81868061|118825921|    4.464884392|\n",
      "|     2.55|14.77684811|     11.20841064|68.57437544|  1856695|    1.149407953|\n",
      "|     2.59|11.40875843|     11.38026028| 73.2877363|    21054|    0.750451221|\n",
      "|     2.63|9.426923936|     12.84594066|72.85933826|    76133|    0.901054733|\n",
      "|     2.54|19.36677184|     13.85050593|62.50680013|     9191|    0.816015668|\n",
      "+---------+-----------+----------------+-----------+---------+---------------+\n",
      "only showing top 5 rows\n",
      "\n"
     ]
    }
   ],
   "source": [
    "spark.sql('select * from hh_df_from_python_unmanaged').show(5)"
   ]
  },
  {
   "cell_type": "markdown",
   "metadata": {},
   "source": [
    "### Using SQL"
   ]
  },
  {
   "cell_type": "code",
   "execution_count": 41,
   "metadata": {},
   "outputs": [
    {
     "data": {
      "text/plain": [
       "DataFrame[]"
      ]
     },
     "execution_count": 41,
     "metadata": {},
     "output_type": "execute_result"
    }
   ],
   "source": [
    "spark.sql(\n",
    "'''\n",
    "create table if not exists hh_df_from_sql_unmanaged\n",
    "(AvgHHSize INT, FemaleHHPct FLOAT, HH65PlusAlonePct FLOAT, OwnHomePct FLOAT, TotalHH INT, NonEnglishHHPct FLOAT)\n",
    "USING json OPTIONS (PATH 'path_to_us_flights_json_file')\n",
    "'''\n",
    ")"
   ]
  },
  {
   "cell_type": "code",
   "execution_count": 42,
   "metadata": {},
   "outputs": [
    {
     "name": "stdout",
     "output_type": "stream",
     "text": [
      "+---------+-----------+----------------+----------+-------+---------------+\n",
      "|AvgHHSize|FemaleHHPct|HH65PlusAlonePct|OwnHomePct|TotalHH|NonEnglishHHPct|\n",
      "+---------+-----------+----------------+----------+-------+---------------+\n",
      "+---------+-----------+----------------+----------+-------+---------------+\n",
      "\n"
     ]
    }
   ],
   "source": [
    "spark.sql('select * from hh_df_from_sql_unmanaged').show(5)"
   ]
  },
  {
   "cell_type": "markdown",
   "metadata": {},
   "source": [
    "# Temp View "
   ]
  },
  {
   "cell_type": "code",
   "execution_count": null,
   "metadata": {},
   "outputs": [],
   "source": []
  }
 ],
 "metadata": {
  "kernelspec": {
   "display_name": "Python 3",
   "language": "python",
   "name": "python3"
  },
  "language_info": {
   "codemirror_mode": {
    "name": "ipython",
    "version": 3
   },
   "file_extension": ".py",
   "mimetype": "text/x-python",
   "name": "python",
   "nbconvert_exporter": "python",
   "pygments_lexer": "ipython3",
   "version": "3.7.5"
  }
 },
 "nbformat": 4,
 "nbformat_minor": 4
}
