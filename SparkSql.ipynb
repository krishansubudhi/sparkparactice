{
 "cells": [
  {
   "cell_type": "code",
   "execution_count": 3,
   "metadata": {},
   "outputs": [],
   "source": [
    "from pyspark.sql import SparkSession\n",
    "spark = (SparkSession\n",
    "         .builder\n",
    "         .appName('SparkSql')\n",
    "         .getOrCreate())"
   ]
  },
  {
   "cell_type": "code",
   "execution_count": 65,
   "metadata": {
    "scrolled": true
   },
   "outputs": [],
   "source": [
    "file =  '../Rural_Atlas_Update20/People.csv'\n",
    "# columns = !powershell cat {file} -First 1\n",
    "# for line in columns[0].split(','):\n",
    "#     print(line)"
   ]
  },
  {
   "cell_type": "code",
   "execution_count": 39,
   "metadata": {},
   "outputs": [
    {
     "name": "stdout",
     "output_type": "stream",
     "text": [
      "+-----+-------------+---------------+-----------------------+---------------+-----------------------+\n",
      "|state|       county|TotalPopEst2010|WhiteNonHispanicPct2010|HispanicPct2010|AsianNonHispanicPct2010|\n",
      "+-----+-------------+---------------+-----------------------+---------------+-----------------------+\n",
      "|   US|United States|      309338421|                  63.75|          16.35|                   4.69|\n",
      "|   AL|      Alabama|        4785448|                  67.04|           3.88|                   1.11|\n",
      "|   AL|      Autauga|          54754|                  77.25|            2.4|                   0.86|\n",
      "|   AL|      Baldwin|         183111|                   83.5|           4.38|                   0.74|\n",
      "|   AL|      Barbour|          27330|                  46.75|           5.05|                   0.39|\n",
      "+-----+-------------+---------------+-----------------------+---------------+-----------------------+\n",
      "only showing top 5 rows\n",
      "\n"
     ]
    }
   ],
   "source": [
    "people_df = spark.read.csv(file, inferSchema=True, header=True)\n",
    "#people_df.show(1)\n",
    "pop_df_2010 = people_df.select(\n",
    "    'state', 'county','TotalPopEst2010','WhiteNonHispanicPct2010','HispanicPct2010', 'AsianNonHispanicPct2010')\n",
    "pop_df_2010.show(5)"
   ]
  },
  {
   "cell_type": "markdown",
   "metadata": {},
   "source": [
    "# SaveAsTable and load in sql "
   ]
  },
  {
   "cell_type": "code",
   "execution_count": 41,
   "metadata": {},
   "outputs": [],
   "source": [
    "pop_df_2010. write.saveAsTable('2010population', mode='overwrite')"
   ]
  },
  {
   "cell_type": "code",
   "execution_count": 43,
   "metadata": {},
   "outputs": [
    {
     "name": "stdout",
     "output_type": "stream",
     "text": [
      "+-----+-------------+---------------+-----------------------+---------------+-----------------------+\n",
      "|state|       county|TotalPopEst2010|WhiteNonHispanicPct2010|HispanicPct2010|AsianNonHispanicPct2010|\n",
      "+-----+-------------+---------------+-----------------------+---------------+-----------------------+\n",
      "|   US|United States|      309338421|                  63.75|          16.35|                   4.69|\n",
      "|   AL|      Alabama|        4785448|                  67.04|           3.88|                   1.11|\n",
      "|   AL|      Autauga|          54754|                  77.25|            2.4|                   0.86|\n",
      "|   AL|      Baldwin|         183111|                   83.5|           4.38|                   0.74|\n",
      "|   AL|      Barbour|          27330|                  46.75|           5.05|                   0.39|\n",
      "+-----+-------------+---------------+-----------------------+---------------+-----------------------+\n",
      "only showing top 5 rows\n",
      "\n"
     ]
    }
   ],
   "source": [
    "sql_df = spark.sql('select * from 2010population')\n",
    "sql_df.show(5)"
   ]
  },
  {
   "cell_type": "markdown",
   "metadata": {},
   "source": [
    "# Temporary View"
   ]
  },
  {
   "cell_type": "code",
   "execution_count": 44,
   "metadata": {},
   "outputs": [],
   "source": [
    "pop_df_2010.createOrReplaceTempView('pop2010_df_temp_view')"
   ]
  },
  {
   "cell_type": "markdown",
   "metadata": {},
   "source": [
    "### FInd counties with more hispanic people than white"
   ]
  },
  {
   "cell_type": "code",
   "execution_count": 47,
   "metadata": {
    "scrolled": true
   },
   "outputs": [
    {
     "name": "stdout",
     "output_type": "stream",
     "text": [
      "+-----+---------+-----------------------+---------------+--------------------+\n",
      "|state|   county|WhiteNonHispanicPct2010|HispanicPct2010|      hispanic_ratio|\n",
      "+-----+---------+-----------------------+---------------+--------------------+\n",
      "|   TX|   Kenedy|                  20.67|          76.68| 0.18388489208633096|\n",
      "|   PR|  Culebra|                    7.7|          91.75| 0.05041208791208791|\n",
      "|   TX|Culberson|                  21.02|          76.19|0.031693011647254576|\n",
      "|   TX|  Edwards|                   47.3|           51.3|0.025662831415707854|\n",
      "|   TX| Hudspeth|                  18.07|          79.63|0.022934907834101383|\n",
      "|   CO| Costilla|                  30.82|          66.03|0.018710682913006517|\n",
      "|   TX|   Reagan|                   36.2|          60.91|0.018165821652251713|\n",
      "|   TX| Jim Hogg|                    6.3|          92.58|0.017507564296520423|\n",
      "|   TX| Crockett|                  35.28|          63.24| 0.01708727370980816|\n",
      "|   NM|Guadalupe|                  16.07|          79.58|0.016957170253569145|\n",
      "+-----+---------+-----------------------+---------------+--------------------+\n",
      "only showing top 10 rows\n",
      "\n"
     ]
    }
   ],
   "source": [
    "spark.sql(' SELECT state, \\\n",
    "          county, \\\n",
    "          WhiteNonHispanicPct2010,  \\\n",
    "          HispanicPct2010 ,\\\n",
    "          HispanicPct2010/TotalPopEst2010 AS hispanic_ratio \\\n",
    "          FROM pop2010_df_temp_view \\\n",
    "          WHERE HispanicPct2010>WhiteNonHispanicPct2010 \\\n",
    "          ORDER BY hispanic_ratio DESC').show(10)"
   ]
  },
  {
   "cell_type": "markdown",
   "metadata": {},
   "source": [
    "### Find states with more hispanic people than white in 2010"
   ]
  },
  {
   "cell_type": "markdown",
   "metadata": {},
   "source": [
    "#### pyspark"
   ]
  },
  {
   "cell_type": "code",
   "execution_count": 68,
   "metadata": {},
   "outputs": [],
   "source": [
    "from pyspark.sql.functions import *"
   ]
  },
  {
   "cell_type": "code",
   "execution_count": 79,
   "metadata": {},
   "outputs": [
    {
     "name": "stdout",
     "output_type": "stream",
     "text": [
      "+-----+---------------+-----------------+-------------------+\n",
      "|state|TotalPopEst2010|      HispanicPct|WhiteNonHispanicPct|\n",
      "+-----+---------------+-----------------+-------------------+\n",
      "|   PR|        7443050|98.99912663088385|   0.72163327399386|\n",
      "|   NM|        4129176|46.29742528775718|  40.49270082941487|\n",
      "+-----+---------------+-----------------+-------------------+\n",
      "\n"
     ]
    }
   ],
   "source": [
    "(sql_df.select('state', 'county', 'TotalPopEst2010',\n",
    "              (col('TotalPopEst2010')*col('HispanicPct2010')/100).alias('TotalHispanic') ,\n",
    "             (col('TotalPopEst2010')*col('WhiteNonHispanicPct2010')/100).alias('TotalWhiteNonHispanic'))\n",
    " .groupBy('state').agg(\n",
    "     sum('TotalPopEst2010').alias('TotalPopEst2010'),\n",
    "     sum('TotalHispanic').alias('TotalHispanic'),\n",
    "     sum('TotalWhiteNonHispanic').alias('TotalWhiteNonHispanic'),\n",
    "     )\n",
    " .select('state','TotalPopEst2010',\n",
    "         (col('TotalHispanic')/col('TotalPopEst2010')*100).alias('HispanicPct'),\n",
    "        (col('TotalWhiteNonHispanic')/col('TotalPopEst2010')*100).alias('WhiteNonHispanicPct'))\n",
    " .where(col('HispanicPct')> col('WhiteNonHispanicPct'))\n",
    " .sort('HispanicPct',ascending=False)\n",
    ").show(5)"
   ]
  },
  {
   "cell_type": "markdown",
   "metadata": {},
   "source": [
    "### SQL"
   ]
  },
  {
   "cell_type": "code",
   "execution_count": null,
   "metadata": {},
   "outputs": [],
   "source": []
  }
 ],
 "metadata": {
  "kernelspec": {
   "display_name": "Python 3",
   "language": "python",
   "name": "python3"
  },
  "language_info": {
   "codemirror_mode": {
    "name": "ipython",
    "version": 3
   },
   "file_extension": ".py",
   "mimetype": "text/x-python",
   "name": "python",
   "nbconvert_exporter": "python",
   "pygments_lexer": "ipython3",
   "version": "3.7.5"
  }
 },
 "nbformat": 4,
 "nbformat_minor": 4
}
