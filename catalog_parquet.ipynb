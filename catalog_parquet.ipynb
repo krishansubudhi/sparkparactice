{
 "cells": [
  {
   "cell_type": "code",
   "execution_count": 4,
   "metadata": {},
   "outputs": [],
   "source": [
    "from pyspark.sql import SparkSession\n",
    "spark = (SparkSession\n",
    ".builder.appName('catalog')\n",
    ".getOrCreate())"
   ]
  },
  {
   "cell_type": "code",
   "execution_count": 88,
   "metadata": {},
   "outputs": [
    {
     "data": {
      "text/plain": [
       "DataFrame[]"
      ]
     },
     "execution_count": 88,
     "metadata": {},
     "output_type": "execute_result"
    }
   ],
   "source": [
    "path = 'C:/Users/krkusuk/Study/spark/sparkparactice/temp'\n",
    "#Unmanaged table. spark won't delete the data\n",
    "! powershell \"rm -R 'C:/Users/krkusuk/Study/spark/sparkparactice/temp'\" \n",
    "spark.sql(r'CREATE DATABASE IF NOT EXISTS catalog_test')\n",
    "spark.sql(r'USE catalog_test')\n",
    "spark.sql(r'DROP TABLE IF EXISTS X')\n",
    "spark.sql(r' CREATE TABLE X (Name STRING, age INT) USING json OPTIONS (PATH \"{}\")'.format(path))\n",
    "spark.sql(r'INSERT INTO X VALUES (\"krishan\",30),(\"sweta\",24)')"
   ]
  },
  {
   "cell_type": "code",
   "execution_count": 89,
   "metadata": {},
   "outputs": [
    {
     "data": {
      "text/plain": [
       "[Database(name='catalog_test', description='', locationUri='file:/C:/Users/krkusuk/Study/spark/sparkparactice/spark-warehouse/catalog_test.db'),\n",
       " Database(name='default', description='default database', locationUri='file:/C:/Users/krkusuk/Study/spark/sparkparactice/spark-warehouse')]"
      ]
     },
     "execution_count": 89,
     "metadata": {},
     "output_type": "execute_result"
    }
   ],
   "source": [
    "spark.catalog.listDatabases()"
   ]
  },
  {
   "cell_type": "code",
   "execution_count": 90,
   "metadata": {},
   "outputs": [
    {
     "data": {
      "text/plain": [
       "[Table(name='x', database='catalog_test', description=None, tableType='EXTERNAL', isTemporary=False)]"
      ]
     },
     "execution_count": 90,
     "metadata": {},
     "output_type": "execute_result"
    }
   ],
   "source": [
    "spark.catalog.listTables()"
   ]
  },
  {
   "cell_type": "code",
   "execution_count": 91,
   "metadata": {},
   "outputs": [
    {
     "data": {
      "text/plain": [
       "[Column(name='Name', description=None, dataType='string', nullable=True, isPartition=False, isBucket=False),\n",
       " Column(name='age', description=None, dataType='int', nullable=True, isPartition=False, isBucket=False)]"
      ]
     },
     "execution_count": 91,
     "metadata": {},
     "output_type": "execute_result"
    }
   ],
   "source": [
    "spark.catalog.listColumns('x')"
   ]
  },
  {
   "cell_type": "code",
   "execution_count": 92,
   "metadata": {},
   "outputs": [
    {
     "name": "stdout",
     "output_type": "stream",
     "text": [
      "+-------+---+\n",
      "|   Name|age|\n",
      "+-------+---+\n",
      "|krishan| 30|\n",
      "|  sweta| 24|\n",
      "+-------+---+\n",
      "\n"
     ]
    }
   ],
   "source": [
    "#CACHE TABLE <table-name>\n",
    "spark.sql('select * from x').show()"
   ]
  },
  {
   "cell_type": "markdown",
   "metadata": {},
   "source": [
    "### Save a parquet"
   ]
  },
  {
   "cell_type": "code",
   "execution_count": 96,
   "metadata": {},
   "outputs": [],
   "source": [
    "#python\n",
    "spark.sql('select * from x').write.format('parquet').save(f'{path}\\parquet_python')"
   ]
  },
  {
   "cell_type": "code",
   "execution_count": 109,
   "metadata": {},
   "outputs": [
    {
     "data": {
      "text/plain": [
       "DataFrame[]"
      ]
     },
     "execution_count": 109,
     "metadata": {},
     "output_type": "execute_result"
    }
   ],
   "source": [
    "#sql\n",
    "sqlpath = f'{path}\\parquet_python'\n",
    "tv = spark.sql('select * from x').createOrReplaceTempView('tv')\n",
    "spark.sql(f'CREATE TABLE tv \\\n",
    "USING parquet OPTIONS (PATH \"{sqlpath}\") AS  SELECT * FROM tv')"
   ]
  },
  {
   "cell_type": "code",
   "execution_count": null,
   "metadata": {},
   "outputs": [],
   "source": [
    "select * fo"
   ]
  },
  {
   "cell_type": "markdown",
   "metadata": {},
   "source": [
    "### Read From parquet"
   ]
  },
  {
   "cell_type": "markdown",
   "metadata": {},
   "source": [
    "#### Python"
   ]
  },
  {
   "cell_type": "code",
   "execution_count": 94,
   "metadata": {},
   "outputs": [
    {
     "name": "stdout",
     "output_type": "stream",
     "text": [
      "+-------+---+\n",
      "|   Name|age|\n",
      "+-------+---+\n",
      "|krishan| 30|\n",
      "|  sweta| 24|\n",
      "+-------+---+\n",
      "\n"
     ]
    }
   ],
   "source": [
    "spark.read.load(f'{path}\\parquet').show()"
   ]
  },
  {
   "cell_type": "markdown",
   "metadata": {},
   "source": [
    "#### SQL"
   ]
  },
  {
   "cell_type": "code",
   "execution_count": 104,
   "metadata": {},
   "outputs": [
    {
     "data": {
      "text/plain": [
       "DataFrame[]"
      ]
     },
     "execution_count": 104,
     "metadata": {},
     "output_type": "execute_result"
    }
   ],
   "source": [
    "spark.sql(f'CREATE or REPLACE TEMPORARY VIEW tv \\\n",
    "USING PARQUET OPTIONS (PATH \"{path}/parquet\")')"
   ]
  },
  {
   "cell_type": "code",
   "execution_count": 105,
   "metadata": {},
   "outputs": [
    {
     "name": "stdout",
     "output_type": "stream",
     "text": [
      "+-------+---+\n",
      "|   Name|age|\n",
      "+-------+---+\n",
      "|krishan| 30|\n",
      "|  sweta| 24|\n",
      "+-------+---+\n",
      "\n"
     ]
    }
   ],
   "source": [
    "spark.sql('select * from tv').show()"
   ]
  },
  {
   "cell_type": "code",
   "execution_count": null,
   "metadata": {},
   "outputs": [],
   "source": []
  }
 ],
 "metadata": {
  "kernelspec": {
   "display_name": "Python 3",
   "language": "python",
   "name": "python3"
  },
  "language_info": {
   "codemirror_mode": {
    "name": "ipython",
    "version": 3
   },
   "file_extension": ".py",
   "mimetype": "text/x-python",
   "name": "python",
   "nbconvert_exporter": "python",
   "pygments_lexer": "ipython3",
   "version": "3.7.5"
  }
 },
 "nbformat": 4,
 "nbformat_minor": 4
}
