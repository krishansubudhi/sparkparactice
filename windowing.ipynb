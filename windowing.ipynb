{
 "cells": [
  {
   "cell_type": "markdown",
   "metadata": {},
   "source": [
    "Documentation:\n",
    "* [databricks doc](https://databricks.com/blog/2015/07/15/introducing-window-functions-in-spark-sql.html)\n",
    "* [plural sight](https://app.pluralsight.com/course-player?clipId=a7bdf996-3a11-4f8a-9fda-3222c93eef12)"
   ]
  },
  {
   "cell_type": "code",
   "execution_count": 3,
   "metadata": {},
   "outputs": [],
   "source": [
    "from pyspark.sql import SparkSession\n",
    "spark = SparkSession.builder.appName('windowing').getOrCreate()"
   ]
  },
  {
   "cell_type": "code",
   "execution_count": 4,
   "metadata": {},
   "outputs": [
    {
     "data": {
      "text/plain": [
       "['product', 'category', 'price']"
      ]
     },
     "execution_count": 4,
     "metadata": {},
     "output_type": "execute_result"
    }
   ],
   "source": [
    "products_file = '../datasets/products.csv'\n",
    "products = spark.read.csv(products_file, header=True)\n",
    "products.columns"
   ]
  },
  {
   "cell_type": "code",
   "execution_count": 5,
   "metadata": {},
   "outputs": [
    {
     "name": "stdout",
     "output_type": "stream",
     "text": [
      "+----------+--------+-----+\n",
      "|   product|category|price|\n",
      "+----------+--------+-----+\n",
      "|Samsung TX|  Tablet|  999|\n",
      "|Samsung JX|  Mobile|  799|\n",
      "|Redmi Note|  Mobile|  399|\n",
      "|        Mi|  Mobile|  299|\n",
      "|      iPad|  Tablet|  789|\n",
      "+----------+--------+-----+\n",
      "only showing top 5 rows\n",
      "\n"
     ]
    }
   ],
   "source": [
    "products.show(5)"
   ]
  },
  {
   "cell_type": "markdown",
   "metadata": {},
   "source": [
    "### Sort products based on prices in every category"
   ]
  },
  {
   "cell_type": "code",
   "execution_count": 6,
   "metadata": {},
   "outputs": [],
   "source": [
    "from pyspark.sql.window import Window\n",
    "from pyspark.sql.functions import col\n",
    "category_window = Window\\\n",
    "                    .partitionBy('category')\\\n",
    "                    .orderBy(col('price').desc())"
   ]
  },
  {
   "cell_type": "code",
   "execution_count": 7,
   "metadata": {},
   "outputs": [],
   "source": [
    "import pyspark.sql.functions as func\n",
    "\n",
    "rank = func.dense_rank().over(category_window)"
   ]
  },
  {
   "cell_type": "code",
   "execution_count": 8,
   "metadata": {},
   "outputs": [
    {
     "name": "stdout",
     "output_type": "stream",
     "text": [
      "+----------+--------+-----+----+\n",
      "|   product|category|price|rank|\n",
      "+----------+--------+-----+----+\n",
      "|    iPhone|  Mobile|  999|   1|\n",
      "|Samsung JX|  Mobile|  799|   2|\n",
      "|Redmi Note|  Mobile|  399|   3|\n",
      "|   OnePlus|  Mobile|  356|   4|\n",
      "|        Mi|  Mobile|  299|   5|\n",
      "|  Micromax|  Mobile|  249|   6|\n",
      "|Samsung TX|  Tablet|  999|   1|\n",
      "|      iPad|  Tablet|  789|   2|\n",
      "|    Lenovo|  Tablet|  499|   3|\n",
      "|        Xu|  Tablet|  267|   4|\n",
      "+----------+--------+-----+----+\n",
      "\n"
     ]
    }
   ],
   "source": [
    "ranked_products = products.withColumn('rank',rank)\n",
    "ranked_products.show()"
   ]
  },
  {
   "cell_type": "markdown",
   "metadata": {},
   "source": [
    "### Most expensive products in each category"
   ]
  },
  {
   "cell_type": "code",
   "execution_count": 9,
   "metadata": {},
   "outputs": [
    {
     "name": "stdout",
     "output_type": "stream",
     "text": [
      "+----------+--------+-----+\n",
      "|   product|category|price|\n",
      "+----------+--------+-----+\n",
      "|    iPhone|  Mobile|  999|\n",
      "|Samsung TX|  Tablet|  999|\n",
      "+----------+--------+-----+\n",
      "\n"
     ]
    }
   ],
   "source": [
    "import pyspark.sql.functions as func\n",
    "\n",
    "exp_products = products.withColumn('rank',rank)\\\n",
    "                            .where(col('rank') ==1 )\\\n",
    "                            .drop('rank')\n",
    "exp_products.show()"
   ]
  },
  {
   "cell_type": "markdown",
   "metadata": {},
   "source": [
    "### 2nd most expensive products"
   ]
  },
  {
   "cell_type": "code",
   "execution_count": 10,
   "metadata": {},
   "outputs": [
    {
     "name": "stdout",
     "output_type": "stream",
     "text": [
      "+----------+--------+-----+----+\n",
      "|   product|category|price|rank|\n",
      "+----------+--------+-----+----+\n",
      "|Samsung JX|  Mobile|  799|   2|\n",
      "|      iPad|  Tablet|  789|   2|\n",
      "+----------+--------+-----+----+\n",
      "\n"
     ]
    }
   ],
   "source": [
    "exp2_products = products.withColumn('rank',rank)\\\n",
    "                            .where(col('rank') ==2 )\n",
    "exp2_products.show()"
   ]
  },
  {
   "cell_type": "markdown",
   "metadata": {},
   "source": [
    "#### SQL"
   ]
  },
  {
   "cell_type": "code",
   "execution_count": 11,
   "metadata": {},
   "outputs": [],
   "source": [
    "products.createOrReplaceTempView('productsView')"
   ]
  },
  {
   "cell_type": "code",
   "execution_count": 12,
   "metadata": {},
   "outputs": [
    {
     "name": "stdout",
     "output_type": "stream",
     "text": [
      "+----------+--------+-----+----+\n",
      "|   product|category|price|rank|\n",
      "+----------+--------+-----+----+\n",
      "|    iPhone|  Mobile|  999|   1|\n",
      "|Samsung JX|  Mobile|  799|   2|\n",
      "|Redmi Note|  Mobile|  399|   3|\n",
      "|   OnePlus|  Mobile|  356|   4|\n",
      "|        Mi|  Mobile|  299|   5|\n",
      "+----------+--------+-----+----+\n",
      "only showing top 5 rows\n",
      "\n"
     ]
    }
   ],
   "source": [
    "spark.sql(\n",
    "    'SELECT *,rank() OVER (PARTITION BY category ORDER BY price DESC) AS rank FROM productsView'\n",
    ").show(5)"
   ]
  },
  {
   "cell_type": "markdown",
   "metadata": {},
   "source": [
    "### percentage price difference from  previous product \n",
    "Row frame"
   ]
  },
  {
   "cell_type": "code",
   "execution_count": 13,
   "metadata": {},
   "outputs": [],
   "source": [
    "window_frame = Window\\\n",
    ".partitionBy('category')\\\n",
    ".orderBy(col('price').desc())\\\n",
    ".rowsBetween(-1,0)"
   ]
  },
  {
   "cell_type": "code",
   "execution_count": 15,
   "metadata": {},
   "outputs": [
    {
     "name": "stdout",
     "output_type": "stream",
     "text": [
      "+----------+--------+-----+-------------------+\n",
      "|   product|category|price|    percentage_diff|\n",
      "+----------+--------+-----+-------------------+\n",
      "|    iPhone|  Mobile|  999|                0.0|\n",
      "|Samsung JX|  Mobile|  799| -20.02002002002002|\n",
      "|Redmi Note|  Mobile|  399| -50.06257822277848|\n",
      "|   OnePlus|  Mobile|  356|-10.776942355889723|\n",
      "|        Mi|  Mobile|  299| -16.01123595505618|\n",
      "|  Micromax|  Mobile|  249|-16.722408026755854|\n",
      "|Samsung TX|  Tablet|  999|                0.0|\n",
      "|      iPad|  Tablet|  789| -21.02102102102102|\n",
      "|    Lenovo|  Tablet|  499|-36.755386565272495|\n",
      "|        Xu|  Tablet|  267| -46.49298597194389|\n",
      "+----------+--------+-----+-------------------+\n",
      "\n"
     ]
    }
   ],
   "source": [
    "prev = func.first(col('price')).over(window_frame)\n",
    "now = func.last(col('price')).over(window_frame)\n",
    "pdiff = (now-prev)/prev*100\n",
    "products.withColumn('percentage_diff', pdiff).show()"
   ]
  },
  {
   "cell_type": "markdown",
   "metadata": {},
   "source": [
    "#### No partition over category. Entire data as a window"
   ]
  },
  {
   "cell_type": "code",
   "execution_count": 24,
   "metadata": {},
   "outputs": [
    {
     "name": "stdout",
     "output_type": "stream",
     "text": [
      "+----------+--------+-----+-------------------+\n",
      "|   product|category|price|    percentage_diff|\n",
      "+----------+--------+-----+-------------------+\n",
      "|Samsung TX|  Tablet|  999|                0.0|\n",
      "|    iPhone|  Mobile|  999|                0.0|\n",
      "|Samsung JX|  Mobile|  799| -20.02002002002002|\n",
      "|      iPad|  Tablet|  789|-1.2515644555694618|\n",
      "|    Lenovo|  Tablet|  499|-36.755386565272495|\n",
      "|Redmi Note|  Mobile|  399| -20.04008016032064|\n",
      "|   OnePlus|  Mobile|  356|-10.776942355889723|\n",
      "|        Mi|  Mobile|  299| -16.01123595505618|\n",
      "|        Xu|  Tablet|  267|-10.702341137123746|\n",
      "|  Micromax|  Mobile|  249| -6.741573033707865|\n",
      "+----------+--------+-----+-------------------+\n",
      "\n"
     ]
    }
   ],
   "source": [
    "window_frame = Window\\\n",
    ".orderBy(col('price').desc())\\\n",
    ".rowsBetween(-1,0)\n",
    "\n",
    "prev = func.first(col('price')).over(window_frame)\n",
    "now = func.last(col('price')).over(window_frame)\n",
    "pdiff = (now-prev)/prev*100\n",
    "products.withColumn('percentage_diff', pdiff).show()"
   ]
  },
  {
   "cell_type": "code",
   "execution_count": null,
   "metadata": {},
   "outputs": [],
   "source": []
  }
 ],
 "metadata": {
  "kernelspec": {
   "display_name": "Python 3",
   "language": "python",
   "name": "python3"
  },
  "language_info": {
   "codemirror_mode": {
    "name": "ipython",
    "version": 3
   },
   "file_extension": ".py",
   "mimetype": "text/x-python",
   "name": "python",
   "nbconvert_exporter": "python",
   "pygments_lexer": "ipython3",
   "version": "3.7.5"
  }
 },
 "nbformat": 4,
 "nbformat_minor": 4
}
